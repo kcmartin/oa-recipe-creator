{
 "cells": [
  {
   "cell_type": "code",
   "execution_count": 1,
   "id": "5b96752b-d85e-4375-a648-8b946c5f7404",
   "metadata": {
    "tags": []
   },
   "outputs": [],
   "source": [
    "import os\n",
    "import openai"
   ]
  },
  {
   "cell_type": "code",
   "execution_count": 2,
   "id": "28f86149-96d4-4ae7-9fa2-4fad1a41c6f7",
   "metadata": {
    "tags": []
   },
   "outputs": [],
   "source": [
    "openai.api_key = os.getenv('OPENAI_API_KEY')"
   ]
  },
  {
   "cell_type": "code",
   "execution_count": 6,
   "id": "5ea4e8ec-e787-4dae-828e-7c72ac1463eb",
   "metadata": {
    "tags": []
   },
   "outputs": [],
   "source": [
    "def create_dish_prompt(list_of_ingredients):\n",
    "    prompt = f\"Create a detailed recipe based on only the following ingredients: {', '.join(list_of_ingredients)}.\\n\" \\\n",
    "            +f\"Additionally, assign a title starting with  'Recipe Title: ' to this recipe.\"\n",
    "    return prompt"
   ]
  },
  {
   "cell_type": "code",
   "execution_count": 8,
   "id": "44f6bdab-0605-459c-92a1-685398665c7a",
   "metadata": {
    "tags": []
   },
   "outputs": [],
   "source": [
    "recipe = create_dish_prompt(['ham','turkey','eggs','bread'])"
   ]
  },
  {
   "cell_type": "code",
   "execution_count": 9,
   "id": "001626a3-9ee2-4456-8264-33a615591558",
   "metadata": {
    "tags": []
   },
   "outputs": [
    {
     "data": {
      "text/plain": [
       "\"Create a detailed recipe based on only the following ingredients: ham, turkey, eggs, bread.\\nAdditionally, assign a title starting with  'Recipe Title: ' to this recipe.\""
      ]
     },
     "execution_count": 9,
     "metadata": {},
     "output_type": "execute_result"
    }
   ],
   "source": [
    "recipe"
   ]
  },
  {
   "cell_type": "code",
   "execution_count": 10,
   "id": "a15af3c5-882d-43e9-bc84-32c212a518a8",
   "metadata": {
    "tags": []
   },
   "outputs": [],
   "source": [
    "response = openai.Completion.create(engine='text-davinci-003',\n",
    "                                    prompt=recipe,\n",
    "                                    max_tokens=512,\n",
    "                                    temperature=0.7)"
   ]
  },
  {
   "cell_type": "code",
   "execution_count": 13,
   "id": "c63820ee-7244-4839-82b8-34aefff84fbc",
   "metadata": {
    "tags": []
   },
   "outputs": [],
   "source": [
    "result_text = response['choices'][0]['text']"
   ]
  },
  {
   "cell_type": "code",
   "execution_count": 14,
   "id": "a9541628-dd08-4d8f-a970-078bd78a0a9f",
   "metadata": {
    "tags": []
   },
   "outputs": [],
   "source": [
    "import re"
   ]
  },
  {
   "cell_type": "code",
   "execution_count": 15,
   "id": "275fb3d1-a97d-4e3f-b0e5-99bd3f00187e",
   "metadata": {
    "tags": []
   },
   "outputs": [],
   "source": [
    "# use regular expressions to strip everthing in front of recipe title"
   ]
  },
  {
   "cell_type": "code",
   "execution_count": 21,
   "id": "570ee783-96fe-493b-959b-ab40d76cfaac",
   "metadata": {
    "tags": []
   },
   "outputs": [],
   "source": [
    "def extract_title(recipe):\n",
    "    return re.findall(\"^.*Recipe Title: .*$\", recipe, re.MULTILINE)[0].strip().split(\"Recipe Title: \")[1]"
   ]
  },
  {
   "cell_type": "code",
   "execution_count": 22,
   "id": "f1331b72-af2e-4058-92c5-383279faa777",
   "metadata": {
    "tags": []
   },
   "outputs": [
    {
     "data": {
      "text/plain": [
       "'Ham and Turkey Egg Sandwich'"
      ]
     },
     "execution_count": 22,
     "metadata": {},
     "output_type": "execute_result"
    }
   ],
   "source": [
    "extract_title(result_text)"
   ]
  },
  {
   "cell_type": "code",
   "execution_count": null,
   "id": "7d42a17f-c3fd-4ab2-8e95-262dfbad7807",
   "metadata": {},
   "outputs": [],
   "source": []
  }
 ],
 "metadata": {
  "kernelspec": {
   "display_name": "Python 3 (ipykernel)",
   "language": "python",
   "name": "python3"
  },
  "language_info": {
   "codemirror_mode": {
    "name": "ipython",
    "version": 3
   },
   "file_extension": ".py",
   "mimetype": "text/x-python",
   "name": "python",
   "nbconvert_exporter": "python",
   "pygments_lexer": "ipython3",
   "version": "3.11.2"
  }
 },
 "nbformat": 4,
 "nbformat_minor": 5
}
